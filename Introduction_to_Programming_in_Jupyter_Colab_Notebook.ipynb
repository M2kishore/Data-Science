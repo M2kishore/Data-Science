{
  "nbformat": 4,
  "nbformat_minor": 0,
  "metadata": {
    "colab": {
      "name": "Introduction to Programming in Jupyter/Colab Notebook.ipynb",
      "provenance": [],
      "collapsed_sections": [],
      "mount_file_id": "1pZnn7jiN2bHWcqOkyWZSjhQadbi59_kx",
      "authorship_tag": "ABX9TyMLH2SW7G/pDLb4NlnN/2PG"
    },
    "kernelspec": {
      "name": "python3",
      "display_name": "Python 3"
    },
    "language_info": {
      "name": "python"
    }
  },
  "cells": [
    {
      "cell_type": "code",
      "metadata": {
        "id": "xVNTf6fYO7YJ"
      },
      "source": [
        "import os"
      ],
      "execution_count": 1,
      "outputs": []
    },
    {
      "cell_type": "code",
      "metadata": {
        "colab": {
          "base_uri": "https://localhost:8080/"
        },
        "id": "2tRBZ6UbRtTT",
        "outputId": "991f061b-f6fb-4058-db71-c9788dbfafef"
      },
      "source": [
        "print(os.getcwd())"
      ],
      "execution_count": 2,
      "outputs": [
        {
          "output_type": "stream",
          "text": [
            "/content\n"
          ],
          "name": "stdout"
        }
      ]
    },
    {
      "cell_type": "code",
      "metadata": {
        "id": "kTXNPy8RRwti"
      },
      "source": [
        ""
      ],
      "execution_count": null,
      "outputs": []
    }
  ]
}