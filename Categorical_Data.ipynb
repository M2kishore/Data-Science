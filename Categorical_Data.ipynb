{
  "nbformat": 4,
  "nbformat_minor": 0,
  "metadata": {
    "colab": {
      "name": "Categorical Data.ipynb",
      "provenance": [],
      "collapsed_sections": [],
      "toc_visible": true,
      "authorship_tag": "ABX9TyNW9C8FuWGny8Tt6TIV6lTS"
    },
    "kernelspec": {
      "name": "python3",
      "display_name": "Python 3"
    },
    "language_info": {
      "name": "python"
    }
  },
  "cells": [
    {
      "cell_type": "code",
      "metadata": {
        "id": "MAzZsNXlhXse"
      },
      "source": [
        "import pandas as pd\n",
        "import numpy as np"
      ],
      "execution_count": 1,
      "outputs": []
    },
    {
      "cell_type": "markdown",
      "metadata": {
        "id": "dw4-T5f7qz95"
      },
      "source": [
        "# Pre-processing"
      ]
    },
    {
      "cell_type": "code",
      "metadata": {
        "id": "JX1Ajf8Dq7wP"
      },
      "source": [
        "# Define the headers since the data does not have any\n",
        "headers = [\"symboling\", \"normalized_losses\", \"make\", \"fuel_type\", \"aspiration\", \"num_doors\", \"body_style\", \"drive_wheels\", \n",
        "           \"engine_location\", \"wheel_base\", \"length\", \"width\", \"height\", \"curb_weight\", \"engine_type\", \"num_cylinders\", \"engine_size\",\n",
        "           \"fuel_system\", \"bore\", \"stroke\", \"compression_ratio\", \"horsepower\", \"peak_rpm\", \"city_mpg\", \"highway_mpg\", \"price\"]"
      ],
      "execution_count": 2,
      "outputs": []
    },
    {
      "cell_type": "code",
      "metadata": {
        "id": "0WiSUUzBt67P"
      },
      "source": [
        "# Read in the CSV file and convert \"?\" to NaN\n",
        "df = pd.read_csv(\"https://archive.ics.uci.edu/ml/machine-learning-databases/autos/imports-85.data\", header=None, names=headers, na_values=\"?\" )"
      ],
      "execution_count": 3,
      "outputs": []
    },
    {
      "cell_type": "code",
      "metadata": {
        "id": "ABV7y_xbuJh9"
      },
      "source": [
        "df.dtypes"
      ],
      "execution_count": null,
      "outputs": []
    },
    {
      "cell_type": "code",
      "metadata": {
        "id": "VMaME694xR7s"
      },
      "source": [
        "obj_df = df.select_dtypes(include=['object']).copy()\n",
        "obj_df.head()"
      ],
      "execution_count": null,
      "outputs": []
    },
    {
      "cell_type": "code",
      "metadata": {
        "id": "4j5-zQ6nxsQF"
      },
      "source": [
        "obj_df[obj_df.isnull().any(axis=1)]"
      ],
      "execution_count": null,
      "outputs": []
    },
    {
      "cell_type": "code",
      "metadata": {
        "id": "r1UmWzXrxt4j"
      },
      "source": [
        "obj_df[\"num_doors\"].value_counts()"
      ],
      "execution_count": null,
      "outputs": []
    },
    {
      "cell_type": "code",
      "metadata": {
        "id": "pwq0AR85x4Lh"
      },
      "source": [
        "# Fill with four"
      ],
      "execution_count": null,
      "outputs": []
    },
    {
      "cell_type": "markdown",
      "metadata": {
        "id": "XiodOuh7rJQ5"
      },
      "source": [
        "# Find and replace"
      ]
    },
    {
      "cell_type": "code",
      "metadata": {
        "id": "tJd8vVNgrOLK"
      },
      "source": [
        "obj_df[\"num_cylinders\"].value_counts()"
      ],
      "execution_count": null,
      "outputs": []
    },
    {
      "cell_type": "code",
      "metadata": {
        "id": "ozHQspY3yKmD"
      },
      "source": [
        "cleanup nums = {\"num doors\": {\"four\": 4, \"two\": 2}, \n",
        "                \"num_cylinders\": {\"four\": 4, \"six\": 6, \"five\": 5, \"eight\": 8, \"two\": 2, \"twelve\": 12, \"three\":3 }\n",
        "                }"
      ],
      "execution_count": null,
      "outputs": []
    },
    {
      "cell_type": "code",
      "metadata": {
        "id": "-BqmZE3vykSm"
      },
      "source": [
        "# Replace"
      ],
      "execution_count": null,
      "outputs": []
    },
    {
      "cell_type": "markdown",
      "metadata": {
        "id": "Wjad1FEGrSpW"
      },
      "source": [
        "# Label Encoding"
      ]
    },
    {
      "cell_type": "markdown",
      "metadata": {
        "id": "XiqNgsF4zRUE"
      },
      "source": [
        "Convert each value in a column to a number.\n",
        "\n",
        "Shortcut : Convert column to 'category' then do label encoding to it"
      ]
    },
    {
      "cell_type": "code",
      "metadata": {
        "id": "uDvA9PKKrWho"
      },
      "source": [
        ""
      ],
      "execution_count": null,
      "outputs": []
    },
    {
      "cell_type": "markdown",
      "metadata": {
        "id": "SPMuQlfuzzGc"
      },
      "source": [
        "Assign encoded variable to a new column using cat.codes"
      ]
    },
    {
      "cell_type": "code",
      "metadata": {
        "id": "IPO3Cjk0z7t3"
      },
      "source": [
        ""
      ],
      "execution_count": null,
      "outputs": []
    },
    {
      "cell_type": "markdown",
      "metadata": {
        "id": "WjXCMbS50vAp"
      },
      "source": [
        "Disadvantage: Numerical values can be misinterpreted as having ordering respective to the value, i.e 0<1<2 etc."
      ]
    },
    {
      "cell_type": "markdown",
      "metadata": {
        "id": "jQ8WLyRvrb8k"
      },
      "source": [
        "# One-hot encoding"
      ]
    },
    {
      "cell_type": "markdown",
      "metadata": {
        "id": "3_AM_Oh31Qe2"
      },
      "source": [
        "get_dummies()"
      ]
    },
    {
      "cell_type": "code",
      "metadata": {
        "id": "8yqvclBZrlXC"
      },
      "source": [
        ""
      ],
      "execution_count": null,
      "outputs": []
    },
    {
      "cell_type": "markdown",
      "metadata": {
        "id": "Dg4Zc4kX1bLP"
      },
      "source": [
        "Disadvantage: Number of columns increases proportional to the number of unique values in the column."
      ]
    },
    {
      "cell_type": "markdown",
      "metadata": {
        "id": "eMKE5Zw6rnFV"
      },
      "source": [
        "# Custom binary encoding"
      ]
    },
    {
      "cell_type": "markdown",
      "metadata": {
        "id": "dI7-0LW112qa"
      },
      "source": [
        "If we need to only filter for a broad category of input values in a column based on a common pattern:"
      ]
    },
    {
      "cell_type": "code",
      "metadata": {
        "id": "82ONU4ysrqv4"
      },
      "source": [
        ""
      ],
      "execution_count": null,
      "outputs": []
    },
    {
      "cell_type": "markdown",
      "metadata": {
        "id": "tyyo6nbgrtEv"
      },
      "source": [
        "# Using Scikit-learn"
      ]
    },
    {
      "cell_type": "markdown",
      "metadata": {
        "id": "nQnDPebNtEUh"
      },
      "source": [
        "LabelEncoder"
      ]
    },
    {
      "cell_type": "code",
      "metadata": {
        "id": "g5m59A2utDSC"
      },
      "source": [
        ""
      ],
      "execution_count": null,
      "outputs": []
    },
    {
      "cell_type": "markdown",
      "metadata": {
        "id": "AuUgyYIytHRo"
      },
      "source": [
        "LabelBinarizer"
      ]
    },
    {
      "cell_type": "code",
      "metadata": {
        "id": "PrEOU90etKan"
      },
      "source": [
        ""
      ],
      "execution_count": null,
      "outputs": []
    }
  ]
}