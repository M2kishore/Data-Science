{
  "nbformat": 4,
  "nbformat_minor": 0,
  "metadata": {
    "colab": {
      "name": "Reading from Files.ipynb",
      "provenance": [],
      "authorship_tag": "ABX9TyP1OeM3RND9Rg4Wz531B3n0"
    },
    "kernelspec": {
      "name": "python3",
      "display_name": "Python 3"
    },
    "language_info": {
      "name": "python"
    }
  },
  "cells": [
    {
      "cell_type": "markdown",
      "metadata": {
        "id": "9qC2CenTBlxb"
      },
      "source": [
        "# Reading from a CSV file"
      ]
    },
    {
      "cell_type": "markdown",
      "metadata": {
        "id": "gRkGeP2-B7kM"
      },
      "source": [
        "Default case"
      ]
    },
    {
      "cell_type": "code",
      "metadata": {
        "id": "8DL5xOqnLCW-"
      },
      "source": [
        ""
      ],
      "execution_count": null,
      "outputs": []
    },
    {
      "cell_type": "markdown",
      "metadata": {
        "id": "K2QlBnupCF-m"
      },
      "source": [
        "Missing headers"
      ]
    },
    {
      "cell_type": "code",
      "metadata": {
        "id": "fPOmrLqwLF6f"
      },
      "source": [
        ""
      ],
      "execution_count": null,
      "outputs": []
    },
    {
      "cell_type": "markdown",
      "metadata": {
        "id": "2klrqQrzCK3R"
      },
      "source": [
        "Custom column headers"
      ]
    },
    {
      "cell_type": "code",
      "metadata": {
        "id": "97mzhSdxLHFR"
      },
      "source": [
        ""
      ],
      "execution_count": null,
      "outputs": []
    },
    {
      "cell_type": "markdown",
      "metadata": {
        "id": "Ipb_KtQCCOo1"
      },
      "source": [
        "Non-default separators"
      ]
    },
    {
      "cell_type": "code",
      "metadata": {
        "id": "0--fatD2LH8b"
      },
      "source": [
        ""
      ],
      "execution_count": null,
      "outputs": []
    },
    {
      "cell_type": "markdown",
      "metadata": {
        "id": "uECF5kW9CUTt"
      },
      "source": [
        "Skip rows"
      ]
    },
    {
      "cell_type": "code",
      "metadata": {
        "id": "EcQV8zpwLJ0i"
      },
      "source": [
        ""
      ],
      "execution_count": null,
      "outputs": []
    },
    {
      "cell_type": "markdown",
      "metadata": {
        "id": "IpihoYj9CckW"
      },
      "source": [
        "Skip footers"
      ]
    },
    {
      "cell_type": "code",
      "metadata": {
        "id": "VAIYA3TELMdz"
      },
      "source": [
        ""
      ],
      "execution_count": null,
      "outputs": []
    },
    {
      "cell_type": "markdown",
      "metadata": {
        "id": "FHJK-0jaCpco"
      },
      "source": [
        "Read only first 'n' rows"
      ]
    },
    {
      "cell_type": "code",
      "metadata": {
        "id": "PY92rUDWLNDo"
      },
      "source": [
        ""
      ],
      "execution_count": null,
      "outputs": []
    },
    {
      "cell_type": "markdown",
      "metadata": {
        "id": "RHuQ5MZxCvXB"
      },
      "source": [
        "Reading in chunks (skip + nrows)"
      ]
    },
    {
      "cell_type": "code",
      "metadata": {
        "id": "dnKSh9YzLPLj"
      },
      "source": [
        ""
      ],
      "execution_count": null,
      "outputs": []
    },
    {
      "cell_type": "markdown",
      "metadata": {
        "id": "PewGN_wHC0jM"
      },
      "source": [
        "Skip blank lines"
      ]
    },
    {
      "cell_type": "code",
      "metadata": {
        "id": "xhnMhLkqLP18"
      },
      "source": [
        ""
      ],
      "execution_count": null,
      "outputs": []
    },
    {
      "cell_type": "markdown",
      "metadata": {
        "id": "Csas-VfGB0Um"
      },
      "source": [
        "# Reading from a compressed file"
      ]
    },
    {
      "cell_type": "markdown",
      "metadata": {
        "id": "WUFELJqCDJEQ"
      },
      "source": [
        "Read from a zip file"
      ]
    },
    {
      "cell_type": "code",
      "metadata": {
        "id": "sxGvDgJ9LQuV"
      },
      "source": [
        ""
      ],
      "execution_count": null,
      "outputs": []
    },
    {
      "cell_type": "markdown",
      "metadata": {
        "id": "eR5gqnWLDYIX"
      },
      "source": [
        "# Read from an Excel sheet with sheet name"
      ]
    },
    {
      "cell_type": "code",
      "metadata": {
        "id": "F1WnVFDZLRak"
      },
      "source": [
        ""
      ],
      "execution_count": null,
      "outputs": []
    },
    {
      "cell_type": "markdown",
      "metadata": {
        "id": "yMC_pSKnDwad"
      },
      "source": [
        "# Read from a json file"
      ]
    },
    {
      "cell_type": "code",
      "metadata": {
        "id": "OJZGj_jYLIfY"
      },
      "source": [
        ""
      ],
      "execution_count": null,
      "outputs": []
    }
  ]
}