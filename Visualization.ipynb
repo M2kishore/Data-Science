{
  "nbformat": 4,
  "nbformat_minor": 0,
  "metadata": {
    "colab": {
      "name": "Visualization.ipynb",
      "provenance": [],
      "collapsed_sections": [
        "3kWQ-hiYuJiC"
      ],
      "toc_visible": true,
      "authorship_tag": "ABX9TyNk9RWdn1os+DuLgGR/LeYD"
    },
    "kernelspec": {
      "name": "python3",
      "display_name": "Python 3"
    },
    "language_info": {
      "name": "python"
    }
  },
  "cells": [
    {
      "cell_type": "code",
      "metadata": {
        "id": "OKh_Ko_Cub9n"
      },
      "source": [
        "import pandas as pd\n",
        "import numpy as np"
      ],
      "execution_count": null,
      "outputs": []
    },
    {
      "cell_type": "markdown",
      "metadata": {
        "id": "Nhcix7fZt0GK"
      },
      "source": [
        "# Matplotlib"
      ]
    },
    {
      "cell_type": "code",
      "metadata": {
        "id": "chz3wLiSujKl"
      },
      "source": [
        "import matplotlib as mpl\n",
        "import matplotlib.pyplot as plt\n",
        "%matplotlib inline\n",
        "plt.style.use('fivethirtyeight')"
      ],
      "execution_count": null,
      "outputs": []
    },
    {
      "cell_type": "markdown",
      "metadata": {
        "id": "MOSlbU4etGGF"
      },
      "source": [
        "## Line Chart"
      ]
    },
    {
      "cell_type": "markdown",
      "metadata": {
        "id": "S6C6SwhyF--j"
      },
      "source": [
        "### Basic"
      ]
    },
    {
      "cell_type": "code",
      "metadata": {
        "id": "-Hm87MwcvgGr"
      },
      "source": [
        "x = np.array([1,2,3,4,5,6])\n",
        "y = np.power(x,3)\n",
        "plt.plot(x,y)                                           "
      ],
      "execution_count": null,
      "outputs": []
    },
    {
      "cell_type": "code",
      "metadata": {
        "id": "5XvmxC2wwZqk"
      },
      "source": [
        "x = np.linspace(0, 10, 1000) \n",
        "y = np.sin(x)\n",
        "plt.plot(x,y)"
      ],
      "execution_count": null,
      "outputs": []
    },
    {
      "cell_type": "markdown",
      "metadata": {
        "id": "deAWavxGGCJv"
      },
      "source": [
        "### Customization"
      ]
    },
    {
      "cell_type": "code",
      "metadata": {
        "id": "_Ynghs9_xHzM"
      },
      "source": [
        "plt.style.use('seaborn-darkgrid')\n",
        "plt.figure(figsize=(12,5))\n",
        "x = np.linspace(0, 10, 100) \n",
        "y1 = np.sin(x)\n",
        "y2 = np.cos(x)\n",
        "#plt.plot(x,y, 'r-')\n",
        "plt.plot(x,y1, 'g-', label='$y1=sin(x)$')\n",
        "plt.plot(x,y2, 'bo', label='$y2=cos(x)$')\n",
        "plt.xlabel('x')\n",
        "plt.ylabel('Function Value')\n",
        "plt.title('$Sin(x) $  $ & $  $ Cos(x)$' ,fontsize = 14)\n",
        "plt.legend(loc='upper right')#, bbox_to_anchor=(1.2, 1.0))"
      ],
      "execution_count": null,
      "outputs": []
    },
    {
      "cell_type": "markdown",
      "metadata": {
        "id": "6jCdQ2ZfGKNv"
      },
      "source": [
        "### Multiplot"
      ]
    },
    {
      "cell_type": "code",
      "metadata": {
        "id": "pPhiHq6gAne5"
      },
      "source": [
        "plt.style.use('seaborn-darkgrid')\n",
        "plt.figure(figsize=(12,5))\n",
        "x = np.linspace(0, 10, 100) \n",
        "y1 = np.sin(x)\n",
        "y2 = np.cos(x)\n",
        "plt.subplot(1,2,1) # Try 2 rows also\n",
        "plt.plot(x,y1, 'g-', label='$y1=sin(x)$')\n",
        "plt.subplot(1,2,2)\n",
        "plt.plot(x,y2, 'bo', label='$y2=cos(x)$')\n",
        "plt.xlabel('x')\n",
        "plt.ylabel('Function Value')\n",
        "plt.title('$Sin(x) $  $ & $  $ Cos(x)$' ,fontsize = 14)\n",
        "plt.legend(loc='upper right')#, bbox_to_anchor=(1.2, 1.0))"
      ],
      "execution_count": null,
      "outputs": []
    },
    {
      "cell_type": "markdown",
      "metadata": {
        "id": "QRK658EhGOWT"
      },
      "source": [
        "### Grid"
      ]
    },
    {
      "cell_type": "code",
      "metadata": {
        "id": "tBrI7cL-Bpxk"
      },
      "source": [
        "x = np.arange(-50,50)\n",
        "y1 = np.power(x,2)\n",
        "y2 = np.power(x,3)\n",
        "y3 = np.sin(x)\n",
        "y4 = np.cos(x)\n",
        "y5 = np.tan(x)\n",
        "y6 = np.tanh(x)\n",
        "y7 = np.sinh(x)\n",
        "y8 = np.cosh(x)\n",
        "y9 = np.exp(x)\n",
        "\n",
        "fig, ax1 = plt.subplots(nrows=3, ncols=3, figsize=(20,10))\n",
        "ax1[0,0].plot(x, y1, 'tab:orange')\n",
        "ax1[0,1].plot(x, y2, 'tab:green')\n",
        "ax1[0,2].plot(x, y3, 'b-')\n",
        "ax1[1,0].plot(x, y4, 'r-')\n",
        "ax1[1,1].plot(x, y5, 'g-')\n",
        "ax1[1,2].plot(x, y6, 'm-')\n",
        "ax1[2,0].plot(x, y7, 'y-')\n",
        "ax1[2,1].plot(x, y8, 'k-')\n",
        "ax1[2,2].plot(x, y9, 'k-')"
      ],
      "execution_count": null,
      "outputs": []
    },
    {
      "cell_type": "markdown",
      "metadata": {
        "id": "nhC4w2a6GSib"
      },
      "source": [
        "### Logically driven"
      ]
    },
    {
      "cell_type": "code",
      "metadata": {
        "id": "-wsNONqfEmw1"
      },
      "source": [
        "x = [1,2,3,4,5]\n",
        "y = [[1,2,3,4,5],[10,20,30,40,50],[1,4,9,16,25]]\n",
        "plt.figure(figsize=(10,6))\n",
        "for i in y:\n",
        "      plt.plot(x,i)"
      ],
      "execution_count": null,
      "outputs": []
    },
    {
      "cell_type": "markdown",
      "metadata": {
        "id": "9KmovBb1tMCn"
      },
      "source": [
        "## Bar Chart"
      ]
    },
    {
      "cell_type": "markdown",
      "metadata": {
        "id": "y0W2TbQqG8DY"
      },
      "source": [
        "### Basic"
      ]
    },
    {
      "cell_type": "code",
      "metadata": {
        "id": "8LSh70f6Hhn3"
      },
      "source": [
        "id1 = np.arange(1,10)\n",
        "score = np.arange(20,110,10)\n",
        "plt.bar(id1,score)\n",
        "plt.xlabel('Student ID')\n",
        "plt.ylabel('Score')"
      ],
      "execution_count": null,
      "outputs": []
    },
    {
      "cell_type": "markdown",
      "metadata": {
        "id": "SHHMy279HAQW"
      },
      "source": [
        "### Customization"
      ]
    },
    {
      "cell_type": "code",
      "metadata": {
        "id": "9xiF264xH_C2"
      },
      "source": [
        "id1 = np.arange(1,10)\n",
        "score = np.arange(20,110,10)\n",
        "plt.figure(figsize=(8,5))\n",
        "ax = plt.axes()\n",
        "ax.set_facecolor(\"#ECF0FF\") \n",
        "plt.bar(id1,score,color = '#FFA726', width=0.5)\n",
        "plt.xlabel(r'$Student   $  $ ID$')\n",
        "plt.ylabel(r'$Score$')"
      ],
      "execution_count": null,
      "outputs": []
    },
    {
      "cell_type": "markdown",
      "metadata": {
        "id": "JBRt_R9kIa1w"
      },
      "source": [
        "### Multiplot"
      ]
    },
    {
      "cell_type": "code",
      "metadata": {
        "id": "sijD2QxPIY90"
      },
      "source": [
        "x1= [1,3,5,7]\n",
        "x2=[2,4,6,8]\n",
        "y1 = [7,7,7,7]\n",
        "y2= [17,18,29,40]\n",
        "plt.figure(figsize=(8,6))\n",
        "ax = plt.axes()\n",
        "ax.set_facecolor(\"white\")\n",
        "plt.bar(x1,y1,label = \"First\",color = '#42B300') # First set of data\n",
        "plt.bar(x2,y2,label = \"Second\",color = '#94E413', width=0.3) # Second set of data\n",
        "plt.xlabel('$X$')\n",
        "plt.ylabel('$Y$')\n",
        "plt.title ('$Bar $ $ Chart$')\n",
        "plt.legend()"
      ],
      "execution_count": null,
      "outputs": []
    },
    {
      "cell_type": "markdown",
      "metadata": {
        "id": "Vhb61MQCHAUM"
      },
      "source": [
        "### Horizontal"
      ]
    },
    {
      "cell_type": "code",
      "metadata": {
        "id": "-xAiq5EsIxC8"
      },
      "source": [
        "Age = [28,33,43,45,57]\n",
        "Name = [\"Asif\", \"Steve\", 'John', \"Ravi\", \"Basit\"]\n",
        "plt.barh(Name,Age, color =\"yellowgreen\")"
      ],
      "execution_count": null,
      "outputs": []
    },
    {
      "cell_type": "markdown",
      "metadata": {
        "id": "6gEtihp1HMMu"
      },
      "source": [
        "### Displaying value over bar"
      ]
    },
    {
      "cell_type": "code",
      "metadata": {
        "id": "Ex9NBDG1LoQt"
      },
      "source": [
        "num1 = np.array([1,3,5,7,9])\n",
        "num2 = np.array([2,4,6,8,10])\n",
        "plt.figure(figsize=(10,6))\n",
        "plt.bar(num1, num1**2, width=0.3, color='#FF6F00')\n",
        "plt.bar(num2, num2**2, width=0.3 , color='#FFB300')\n",
        "for x,y in zip(num1,num1**2):\n",
        "      plt.text(x, y-5, '%d' % y, ha='center', va='center')\n",
        "for x,y in zip(num2,num2**2):\n",
        "      plt.text(x, y+0.05, '%d' % y, ha='center', va='center')"
      ],
      "execution_count": null,
      "outputs": []
    },
    {
      "cell_type": "markdown",
      "metadata": {
        "id": "P7piE9PCHAXU"
      },
      "source": [
        "### Stacked"
      ]
    },
    {
      "cell_type": "code",
      "metadata": {
        "id": "JAJLChw4OANq"
      },
      "source": [
        "plt.style.use('seaborn-darkgrid')\n",
        "x1 = ['Asif','Basit','Ravi','Minil'] \n",
        "y1 = [17,18,29,40]\n",
        "y2 = [20,21,22,23]\n",
        "y3 = [5,9,11,12]\n",
        "plt.figure(figsize=(5,7))\n",
        "plt.bar(x1, y1, label = \"Open Tickets\", width = 0.5, color = '#FF6F00')\n",
        "plt.bar(x1, y2, label = \"Closed Tickets\", width = 0.5, bottom = y1, color = '#FFB300')\n",
        "plt.bar(x1, y3, label = \"Cancelled Tickets\", width = 0.5, bottom = np.add(y1,y2), color = '#F7DC60')\n",
        "plt.xlabel('$X$')\n",
        "plt.ylabel('$Y$')\n",
        "plt.title('$Bar $ $ Chart$')\n",
        "plt.legend()"
      ],
      "execution_count": null,
      "outputs": []
    },
    {
      "cell_type": "markdown",
      "metadata": {
        "id": "5g6Kd11JN-Cs"
      },
      "source": [
        "### Grouped"
      ]
    },
    {
      "cell_type": "code",
      "metadata": {
        "id": "h6RQ-dSeQzv5"
      },
      "source": [
        "# set width of bar\n",
        "barWidth = 0.25\n",
        "\n",
        "# set height of bar\n",
        "y1= np.array([17,18,29,40])\n",
        "y2 =np.array([20,21,22,23])\n",
        "y3 =np.array([5,9,11,12])\n",
        "\n",
        "# Set position of bar on X axis\n",
        "pos1 = np.arange(len(y1))\n",
        "pos2 = [x + barWidth for x in pos1]\n",
        "pos3 = [x + barWidth for x in pos2]\n",
        "\n",
        "# Make the plot\n",
        "plt.bar(pos1, y1, color='#FBC02D', width=barWidth, label='Open')\n",
        "plt.bar(pos2, y2, color='#F57F17', width=barWidth, label='Closed')\n",
        "plt.bar(pos3, y3, color='#E65100', width=barWidth, label='Cancelled')\n",
        "\n",
        "# Add xticks on the middle of the group bars\n",
        "plt.xlabel('Assignee', fontweight='bold')\n",
        "plt.ylabel('Number of Tickets', fontweight='bold')\n",
        "plt.xticks([i + barWidth for i in range(len(y1))], ['Asif', 'Basit', 'Ravi', 'Minil'])\n",
        "\n",
        "plt.legend()"
      ],
      "execution_count": null,
      "outputs": []
    },
    {
      "cell_type": "markdown",
      "metadata": {
        "id": "zlreOjcztQ6L"
      },
      "source": [
        "## Scatter Plot"
      ]
    },
    {
      "cell_type": "markdown",
      "metadata": {
        "id": "dtJ2jRpetTXt"
      },
      "source": [
        "## Dist Plot"
      ]
    },
    {
      "cell_type": "markdown",
      "metadata": {
        "id": "1ddOA7rVtTdK"
      },
      "source": [
        "## Swarm Plot"
      ]
    },
    {
      "cell_type": "markdown",
      "metadata": {
        "id": "RpbEAOD5tTjY"
      },
      "source": [
        "## Strip Plot"
      ]
    },
    {
      "cell_type": "markdown",
      "metadata": {
        "id": "Ij1hzljQtTpi"
      },
      "source": [
        "## Box Plot"
      ]
    },
    {
      "cell_type": "markdown",
      "metadata": {
        "id": "TPprYjnOtTvm"
      },
      "source": [
        "## Pair Plot"
      ]
    },
    {
      "cell_type": "markdown",
      "metadata": {
        "id": "HNK3pWGjtT1j"
      },
      "source": [
        "## Heatmap"
      ]
    },
    {
      "cell_type": "markdown",
      "metadata": {
        "id": "nwMVOdgctoGe"
      },
      "source": [
        "## Pie Chart"
      ]
    },
    {
      "cell_type": "markdown",
      "metadata": {
        "id": "cOdtyvqptoOs"
      },
      "source": [
        "## Joint Plot"
      ]
    },
    {
      "cell_type": "markdown",
      "metadata": {
        "id": "3kWQ-hiYuJiC"
      },
      "source": [
        "# Seaborn"
      ]
    },
    {
      "cell_type": "markdown",
      "metadata": {
        "id": "a_TVWqbvuRth"
      },
      "source": [
        "## Line Chart"
      ]
    },
    {
      "cell_type": "markdown",
      "metadata": {
        "id": "dunZorSYuRti"
      },
      "source": [
        "## Bar Chart"
      ]
    },
    {
      "cell_type": "markdown",
      "metadata": {
        "id": "fQpX2fc0uRtj"
      },
      "source": [
        "## Scatter Plot"
      ]
    },
    {
      "cell_type": "markdown",
      "metadata": {
        "id": "vFTg9NQ-uRtk"
      },
      "source": [
        "## Dist Plot"
      ]
    },
    {
      "cell_type": "markdown",
      "metadata": {
        "id": "PrnmIgWDuRtl"
      },
      "source": [
        "## Swarm Plot"
      ]
    },
    {
      "cell_type": "markdown",
      "metadata": {
        "id": "6tcqvdRduRtm"
      },
      "source": [
        "## Strip Plot"
      ]
    },
    {
      "cell_type": "markdown",
      "metadata": {
        "id": "HWPrhPH_uRtm"
      },
      "source": [
        "## Box Plot"
      ]
    },
    {
      "cell_type": "markdown",
      "metadata": {
        "id": "yKUNzsqkuRtn"
      },
      "source": [
        "## Pair Plot"
      ]
    },
    {
      "cell_type": "markdown",
      "metadata": {
        "id": "5f_fcfDLuRto"
      },
      "source": [
        "## Heatmap"
      ]
    },
    {
      "cell_type": "markdown",
      "metadata": {
        "id": "Sb3Ej8TiuRtp"
      },
      "source": [
        "## Pie Chart"
      ]
    }
  ]
}